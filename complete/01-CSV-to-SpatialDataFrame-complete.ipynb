{
 "cells": [
  {
   "cell_type": "markdown",
   "metadata": {},
   "source": [
    "# Spatial dataframes from CSV files\n",
    "If a CSV file includes coordinates - either a coordinate pair representing a point location, or a series of coordinate pairs depicting a line or a polygon's permiter - then we can use those coordinates to construct a geometric object and thus create a spatially enabled dataframe, which in Geopandas is referred to as a <u>geodataframe</u>. \n",
    "\n",
    "Here we focus on the steps involved in going from raw coordinate data stored in a field of CSV file to a spatial dataframe. We first look at the techniques using <u>Geopandas</u> and then those using the <u>ArcGIS Python API</u>. \n",
    "<font color='brown'>(*Note that Geopandas refers to spatial dataframes and \"geodataframes\" and the ArcGIS Python API sometimes refers to them as \"spatially enabled dataframes\"; I will use those terms interchangeably...*)</font>\n",
    "\n",
    "In exploring the **Geopandas** technique, we discuss the hierarchy of components that go into adding spatial elements to a dataframe: from geometries, to geoseries, and finally to geodataframes and see where the Shapely package (installed as one of Geopandas' dependencies) is used in the process. \n",
    "\n",
    "Then, we see that the same process of converting a CSV file to a spatial dataframe using the **ArcGIS Python API** is a bit easier at first, but that the spatial dataframe produced is a bit more difficult to manipulate. \n",
    "\n",
    "We'll examine this process with a simple example of creating a point spatial dataframe from a CSV file containing latitude and longitude coordinates. The data we'll use in this exercise is electric vehicle charging locations in North Carolina ([source](https://afdc.energy.gov/data_download))."
   ]
  },
  {
   "cell_type": "markdown",
   "metadata": {},
   "source": [
    "## 1. Constructing a Pandas dataframe from the CSV file\n",
    "The first step in creating the geodataframe from the CSV file - for both the *Geopandas* and *ArcGIS API* methods - is to read it in as a simple Pandas dataframe. "
   ]
  },
  {
   "cell_type": "code",
   "execution_count": 1,
   "metadata": {},
   "outputs": [],
   "source": [
    "#Import pandas \n",
    "import pandas as pd"
   ]
  },
  {
   "cell_type": "code",
   "execution_count": 2,
   "metadata": {},
   "outputs": [],
   "source": [
    "#Read the EV Charging station data into a Pandas dataframe\n",
    "df_EVStations = pd.read_csv(r\"V:\\Part5_DataScience\\SpatialDataFrames\\data\\NC_Charging_Stations.csv\")"
   ]
  },
  {
   "cell_type": "code",
   "execution_count": 3,
   "metadata": {},
   "outputs": [
    {
     "name": "stdout",
     "output_type": "stream",
     "text": [
      "<class 'pandas.core.frame.DataFrame'>\n",
      "RangeIndex: 738 entries, 0 to 737\n",
      "Data columns (total 15 columns):\n",
      " #   Column                            Non-Null Count  Dtype  \n",
      "---  ------                            --------------  -----  \n",
      " 0   index                             738 non-null    int64  \n",
      " 1   Fuel Type Code                    738 non-null    object \n",
      " 2   Station Name                      738 non-null    object \n",
      " 3   City                              738 non-null    object \n",
      " 4   State                             738 non-null    object \n",
      " 5   ZIP                               738 non-null    int64  \n",
      " 6   Status Code                       738 non-null    object \n",
      " 7   Groups With Access Code           738 non-null    object \n",
      " 8   Latitude                          738 non-null    float64\n",
      " 9   Longitude                         738 non-null    float64\n",
      " 10  ID                                738 non-null    int64  \n",
      " 11  Updated At                        738 non-null    object \n",
      " 12  Country                           738 non-null    object \n",
      " 13  Groups With Access Code (French)  738 non-null    object \n",
      " 14  Access Code                       738 non-null    object \n",
      "dtypes: float64(2), int64(3), object(10)\n",
      "memory usage: 86.6+ KB\n"
     ]
    }
   ],
   "source": [
    "#Examine the columns, noting the data include \"latitude\"  \"longitude\" columns\n",
    "df_EVStations.info()"
   ]
  },
  {
   "cell_type": "markdown",
   "metadata": {},
   "source": [
    "---\n",
    "## GeoPandas\n",
    "* http://geopandas.org/data_structures.html\n",
    "* http://geopandas.org/io.html\n",
    "\n",
    "### 2. Creating geometries from latitude and longitude coordinates\n",
    "Now that we have our dataframe with its coordinate values, the next step is to convert these raw coordinate values into geometric objects, points in our case. This is done with the `shapely` package. First, we'll demonstrate how this is done with a single coordinate pair, and then reveal a nifty way to do this for all coordinate pairs in our dataframe."
   ]
  },
  {
   "cell_type": "markdown",
   "metadata": {},
   "source": [
    "#### Creating a single point geometry from a single coordinate pair"
   ]
  },
  {
   "cell_type": "code",
   "execution_count": 19,
   "metadata": {},
   "outputs": [
    {
     "name": "stdout",
     "output_type": "stream",
     "text": [
      "35.2269135 -80.8501816\n"
     ]
    }
   ],
   "source": [
    "#Extract latitude and longitude values from our first record\n",
    "theLat = df_EVStations.loc[0,'Latitude']\n",
    "theLng = df_EVStations.loc[0,'Longitude']\n",
    "print (theLat,theLng)"
   ]
  },
  {
   "cell_type": "code",
   "execution_count": 5,
   "metadata": {},
   "outputs": [],
   "source": [
    "#Import the Point class from shapely's geometry module\n",
    "from shapely.geometry import Point"
   ]
  },
  {
   "cell_type": "code",
   "execution_count": 6,
   "metadata": {},
   "outputs": [
    {
     "data": {
      "text/plain": [
       "shapely.geometry.point.Point"
      ]
     },
     "execution_count": 6,
     "metadata": {},
     "output_type": "execute_result"
    }
   ],
   "source": [
    "#Construct a shapely point from our XY coordinates\n",
    "thePoint = Point(theLng,theLat)\n",
    "type(thePoint)"
   ]
  },
  {
   "cell_type": "code",
   "execution_count": 7,
   "metadata": {},
   "outputs": [
    {
     "data": {
      "image/svg+xml": [
       "<svg xmlns=\"http://www.w3.org/2000/svg\" xmlns:xlink=\"http://www.w3.org/1999/xlink\" width=\"100.0\" height=\"100.0\" viewBox=\"-81.8501816 34.2269135 2.0 2.0\" preserveAspectRatio=\"xMinYMin meet\"><g transform=\"matrix(1,0,0,-1,0,70.453827)\"><circle cx=\"-80.8501816\" cy=\"35.2269135\" r=\"0.06\" stroke=\"#555555\" stroke-width=\"0.02\" fill=\"#66cc99\" opacity=\"0.6\" /></g></svg>"
      ],
      "text/plain": [
       "<shapely.geometry.point.Point at 0x2e819385ba8>"
      ]
     },
     "execution_count": 7,
     "metadata": {},
     "output_type": "execute_result"
    }
   ],
   "source": [
    "#Display the point\n",
    "thePoint"
   ]
  },
  {
   "cell_type": "markdown",
   "metadata": {},
   "source": [
    "Ok, we now have a point object. What we next need to do is repeat this process for all records in our dataframe, storing the geometries in a new list. \n",
    "\n",
    "We could simply iterate through all rows in our dataframe (e.g. using Pandas' `iterrow()` function. However, a much more elegant and efficient method exists using Python's \"list comprehension\" methods. (See more [here](https://www.pythonforbeginners.com/basics/list-comprehensions-in-python) on list comprehension...)"
   ]
  },
  {
   "cell_type": "markdown",
   "metadata": {},
   "source": [
    "#### Creating a list of point geometries by iterating through all records"
   ]
  },
  {
   "cell_type": "code",
   "execution_count": 34,
   "metadata": {},
   "outputs": [
    {
     "name": "stdout",
     "output_type": "stream",
     "text": [
      "<class 'int'>\n",
      "<class 'pandas.core.series.Series'>\n"
     ]
    }
   ],
   "source": [
    "#Old style:\n",
    "thePoints = []\n",
    "for i,row in df_EVStations.iterrows():\n",
    "    theLat = row['Latitude']\n",
    "    theLng = row['Longitude']\n",
    "    thePoint = Point(theLng,theLat)\n",
    "    thePoints.append(thePoint)\n",
    "\n",
    "print(type(i))\n",
    "print(type(row))"
   ]
  },
  {
   "cell_type": "markdown",
   "metadata": {},
   "source": [
    "#### Creating a list of point geometries by iterating through all records - *using list comprehension*"
   ]
  },
  {
   "cell_type": "code",
   "execution_count": 28,
   "metadata": {},
   "outputs": [
    {
     "data": {
      "text/plain": [
       "738"
      ]
     },
     "execution_count": 28,
     "metadata": {},
     "output_type": "execute_result"
    }
   ],
   "source": [
    "#New style: Using list comprehension\n",
    "thePointsZip = [Point(xy) for xy in zip(df_EVStations['Longitude'],df_EVStations['Latitude'])]\n",
    "len(thePointsZip)"
   ]
  },
  {
   "cell_type": "code",
   "execution_count": 29,
   "metadata": {},
   "outputs": [
    {
     "data": {
      "text/plain": [
       "list"
      ]
     },
     "execution_count": 29,
     "metadata": {},
     "output_type": "execute_result"
    }
   ],
   "source": [
    "type(thePointsZip)\n"
   ]
  },
  {
   "cell_type": "markdown",
   "metadata": {},
   "source": [
    "---\n",
    "#### → Understanding *list comprehension*\n",
    "*A lot is going on in the above statement. Let's pause and break it down...*\n",
    "\n",
    "* First, the `zip(df_EVStations['Longitude'],df_EVStations['Latitude'])` code creats a Python \"zip\" object which is a combination two (or more) collections of the same length that now share a common index. Take a look:"
   ]
  },
  {
   "cell_type": "code",
   "execution_count": 30,
   "metadata": {},
   "outputs": [
    {
     "data": {
      "text/plain": [
       "[(-80.8501816, 35.2269135), (-78.64347, 35.778416), (-78.642287, 35.77435)]"
      ]
     },
     "execution_count": 30,
     "metadata": {},
     "output_type": "execute_result"
    }
   ],
   "source": [
    "#Zip the two columns of data such that they share a common index\n",
    "zipObject = zip(df_EVStations['Longitude'],df_EVStations['Latitude'])\n",
    "#Convert the zip object to a list\n",
    "zipAsList = list(zipObject)\n",
    "#Reveal the first 3 object in the list\n",
    "zipAsList[:3]"
   ]
  },
  {
   "cell_type": "markdown",
   "metadata": {},
   "source": [
    "* The second action in the statement is a `for` loop that iterates through each item in the new `zip` object, assigning the current value in each iteration (i.e. coordinate pair) to the variable named `xy`.\n",
    "* And the third action is constucting a Point object using this coordinate pair, again done within the for loop. \n",
    "* Finally, if you note that the entire statement is enclosed in brackets just like any Python list. This is meaningful because the result of each iteration is stored as a list which we assign to the variable `thePoints`.\n",
    "\n",
    "*List comprehension is a clever scripting technique. Some argue that it's less \"Pythonic\", but I've seen it more and more in Python scripts...*\n",
    "\n",
    "---"
   ]
  },
  {
   "cell_type": "markdown",
   "metadata": {},
   "source": [
    "### 3. Creating the geodataframe\n",
    "We are almost there! \n",
    "\n",
    "The remaining step in the Geopandas method is to convert our existing Pandas dataframe to a GeoPandas *geo*dataframe. To do this we simply call the GeoPandas `GeoDataFrame` command, referencing the original dataframe, the list of geometries corresponding to each row in this dataframe, and the <u>coordinate reference system</u> or **crs** to which our geometries are referenced. \n",
    "\n",
    "These coordinate reference systems can actually take many forms. But most often, you'll just use the format shown below, replacing the `4326` with the \"WKID\" of any coordinate reference system listed at https://spatialreference.org.  "
   ]
  },
  {
   "cell_type": "code",
   "execution_count": 24,
   "metadata": {},
   "outputs": [],
   "source": [
    "#Import geopandas\n",
    "import geopandas"
   ]
  },
  {
   "cell_type": "code",
   "execution_count": 25,
   "metadata": {},
   "outputs": [],
   "source": [
    "#Create a coordinate reference system dictionary for WGS84 (WKID=4326)\n",
    "theCRS = 4326"
   ]
  },
  {
   "cell_type": "code",
   "execution_count": 32,
   "metadata": {},
   "outputs": [
    {
     "data": {
      "text/plain": [
       "11070"
      ]
     },
     "execution_count": 32,
     "metadata": {},
     "output_type": "execute_result"
    }
   ],
   "source": [
    "df_EVStations.size"
   ]
  },
  {
   "cell_type": "code",
   "execution_count": 33,
   "metadata": {},
   "outputs": [
    {
     "data": {
      "text/plain": [
       "1"
      ]
     },
     "execution_count": 33,
     "metadata": {},
     "output_type": "execute_result"
    }
   ],
   "source": [
    "len(thePoints)"
   ]
  },
  {
   "cell_type": "code",
   "execution_count": 35,
   "metadata": {},
   "outputs": [
    {
     "data": {
      "text/plain": [
       "geopandas.geodataframe.GeoDataFrame"
      ]
     },
     "execution_count": 35,
     "metadata": {},
     "output_type": "execute_result"
    }
   ],
   "source": [
    "#Create the spatial dataframe from the Pandas dataframe, the geometry collection and crs\n",
    "gdf_EVStations = geopandas.GeoDataFrame(\n",
    "    df_EVStations,      #Source of the data\n",
    "    geometry=thePoints, #Field containing geometries\n",
    "    crs=theCRS)         #Coordinate reference system of the geometries\n",
    "\n",
    "#Display the type of the object created\n",
    "type(gdf_EVStations)"
   ]
  },
  {
   "cell_type": "markdown",
   "metadata": {},
   "source": [
    "* Explore the geodataframe..."
   ]
  },
  {
   "cell_type": "code",
   "execution_count": 29,
   "metadata": {},
   "outputs": [
    {
     "name": "stdout",
     "output_type": "stream",
     "text": [
      "<class 'geopandas.geodataframe.GeoDataFrame'>\n",
      "RangeIndex: 738 entries, 0 to 737\n",
      "Data columns (total 16 columns):\n",
      " #   Column                            Non-Null Count  Dtype   \n",
      "---  ------                            --------------  -----   \n",
      " 0   index                             738 non-null    int64   \n",
      " 1   Fuel Type Code                    738 non-null    object  \n",
      " 2   Station Name                      738 non-null    object  \n",
      " 3   City                              738 non-null    object  \n",
      " 4   State                             738 non-null    object  \n",
      " 5   ZIP                               738 non-null    int64   \n",
      " 6   Status Code                       738 non-null    object  \n",
      " 7   Groups With Access Code           738 non-null    object  \n",
      " 8   Latitude                          738 non-null    float64 \n",
      " 9   Longitude                         738 non-null    float64 \n",
      " 10  ID                                738 non-null    int64   \n",
      " 11  Updated At                        738 non-null    object  \n",
      " 12  Country                           738 non-null    object  \n",
      " 13  Groups With Access Code (French)  738 non-null    object  \n",
      " 14  Access Code                       738 non-null    object  \n",
      " 15  geometry                          738 non-null    geometry\n",
      "dtypes: float64(2), geometry(1), int64(3), object(10)\n",
      "memory usage: 92.4+ KB\n"
     ]
    }
   ],
   "source": [
    "#Show info for the dataframe; note the new column at the end\n",
    "gdf_EVStations.info()"
   ]
  },
  {
   "cell_type": "code",
   "execution_count": 30,
   "metadata": {},
   "outputs": [
    {
     "data": {
      "text/html": [
       "<div>\n",
       "<style scoped>\n",
       "    .dataframe tbody tr th:only-of-type {\n",
       "        vertical-align: middle;\n",
       "    }\n",
       "\n",
       "    .dataframe tbody tr th {\n",
       "        vertical-align: top;\n",
       "    }\n",
       "\n",
       "    .dataframe thead th {\n",
       "        text-align: right;\n",
       "    }\n",
       "</style>\n",
       "<table border=\"1\" class=\"dataframe\">\n",
       "  <thead>\n",
       "    <tr style=\"text-align: right;\">\n",
       "      <th></th>\n",
       "      <th>index</th>\n",
       "      <th>Fuel Type Code</th>\n",
       "      <th>Station Name</th>\n",
       "      <th>City</th>\n",
       "      <th>State</th>\n",
       "      <th>ZIP</th>\n",
       "      <th>Status Code</th>\n",
       "      <th>Groups With Access Code</th>\n",
       "      <th>Latitude</th>\n",
       "      <th>Longitude</th>\n",
       "      <th>ID</th>\n",
       "      <th>Updated At</th>\n",
       "      <th>Country</th>\n",
       "      <th>Groups With Access Code (French)</th>\n",
       "      <th>Access Code</th>\n",
       "      <th>geometry</th>\n",
       "    </tr>\n",
       "  </thead>\n",
       "  <tbody>\n",
       "    <tr>\n",
       "      <th>0</th>\n",
       "      <td>312</td>\n",
       "      <td>ELEC</td>\n",
       "      <td>DUKE ENERGY</td>\n",
       "      <td>Charlotte</td>\n",
       "      <td>NC</td>\n",
       "      <td>28202</td>\n",
       "      <td>E</td>\n",
       "      <td>Public</td>\n",
       "      <td>35.226914</td>\n",
       "      <td>-80.850182</td>\n",
       "      <td>38892</td>\n",
       "      <td>2019-11-14 10:14:28 UTC</td>\n",
       "      <td>US</td>\n",
       "      <td>Public</td>\n",
       "      <td>public</td>\n",
       "      <td>POINT (-80.85018 35.22691)</td>\n",
       "    </tr>\n",
       "    <tr>\n",
       "      <th>1</th>\n",
       "      <td>332</td>\n",
       "      <td>ELEC</td>\n",
       "      <td>City of Raleigh - Municipal Building</td>\n",
       "      <td>Raleigh</td>\n",
       "      <td>NC</td>\n",
       "      <td>27601</td>\n",
       "      <td>E</td>\n",
       "      <td>Public</td>\n",
       "      <td>35.778416</td>\n",
       "      <td>-78.643470</td>\n",
       "      <td>39016</td>\n",
       "      <td>2019-11-08 19:38:10 UTC</td>\n",
       "      <td>US</td>\n",
       "      <td>Public</td>\n",
       "      <td>public</td>\n",
       "      <td>POINT (-78.64347 35.77842)</td>\n",
       "    </tr>\n",
       "    <tr>\n",
       "      <th>2</th>\n",
       "      <td>333</td>\n",
       "      <td>ELEC</td>\n",
       "      <td>City of Raleigh - Downtown</td>\n",
       "      <td>Raleigh</td>\n",
       "      <td>NC</td>\n",
       "      <td>27601</td>\n",
       "      <td>E</td>\n",
       "      <td>Public</td>\n",
       "      <td>35.774350</td>\n",
       "      <td>-78.642287</td>\n",
       "      <td>39017</td>\n",
       "      <td>2019-11-08 19:38:10 UTC</td>\n",
       "      <td>US</td>\n",
       "      <td>Public</td>\n",
       "      <td>public</td>\n",
       "      <td>POINT (-78.64229 35.77435)</td>\n",
       "    </tr>\n",
       "    <tr>\n",
       "      <th>3</th>\n",
       "      <td>621</td>\n",
       "      <td>ELEC</td>\n",
       "      <td>Modern Nissan - Concord</td>\n",
       "      <td>Concord</td>\n",
       "      <td>NC</td>\n",
       "      <td>28027</td>\n",
       "      <td>E</td>\n",
       "      <td>Public - Call ahead</td>\n",
       "      <td>35.392063</td>\n",
       "      <td>-80.622777</td>\n",
       "      <td>40066</td>\n",
       "      <td>2019-09-09 14:29:53 UTC</td>\n",
       "      <td>US</td>\n",
       "      <td>Public - Appeler à l'avance</td>\n",
       "      <td>public</td>\n",
       "      <td>POINT (-80.62278 35.39206)</td>\n",
       "    </tr>\n",
       "    <tr>\n",
       "      <th>4</th>\n",
       "      <td>622</td>\n",
       "      <td>ELEC</td>\n",
       "      <td>Fred Anderson Nissan</td>\n",
       "      <td>Fayetteville</td>\n",
       "      <td>NC</td>\n",
       "      <td>28304</td>\n",
       "      <td>E</td>\n",
       "      <td>Public - Call ahead</td>\n",
       "      <td>35.042419</td>\n",
       "      <td>-78.956747</td>\n",
       "      <td>40067</td>\n",
       "      <td>2019-09-09 14:29:53 UTC</td>\n",
       "      <td>US</td>\n",
       "      <td>Public - Appeler à l'avance</td>\n",
       "      <td>public</td>\n",
       "      <td>POINT (-78.95675 35.04242)</td>\n",
       "    </tr>\n",
       "  </tbody>\n",
       "</table>\n",
       "</div>"
      ],
      "text/plain": [
       "   index Fuel Type Code                          Station Name          City  \\\n",
       "0    312           ELEC                           DUKE ENERGY     Charlotte   \n",
       "1    332           ELEC  City of Raleigh - Municipal Building       Raleigh   \n",
       "2    333           ELEC            City of Raleigh - Downtown       Raleigh   \n",
       "3    621           ELEC               Modern Nissan - Concord       Concord   \n",
       "4    622           ELEC                  Fred Anderson Nissan  Fayetteville   \n",
       "\n",
       "  State    ZIP Status Code Groups With Access Code   Latitude  Longitude  \\\n",
       "0    NC  28202           E                  Public  35.226914 -80.850182   \n",
       "1    NC  27601           E                  Public  35.778416 -78.643470   \n",
       "2    NC  27601           E                  Public  35.774350 -78.642287   \n",
       "3    NC  28027           E     Public - Call ahead  35.392063 -80.622777   \n",
       "4    NC  28304           E     Public - Call ahead  35.042419 -78.956747   \n",
       "\n",
       "      ID               Updated At Country Groups With Access Code (French)  \\\n",
       "0  38892  2019-11-14 10:14:28 UTC      US                           Public   \n",
       "1  39016  2019-11-08 19:38:10 UTC      US                           Public   \n",
       "2  39017  2019-11-08 19:38:10 UTC      US                           Public   \n",
       "3  40066  2019-09-09 14:29:53 UTC      US      Public - Appeler à l'avance   \n",
       "4  40067  2019-09-09 14:29:53 UTC      US      Public - Appeler à l'avance   \n",
       "\n",
       "  Access Code                    geometry  \n",
       "0      public  POINT (-80.85018 35.22691)  \n",
       "1      public  POINT (-78.64347 35.77842)  \n",
       "2      public  POINT (-78.64229 35.77435)  \n",
       "3      public  POINT (-80.62278 35.39206)  \n",
       "4      public  POINT (-78.95675 35.04242)  "
      ]
     },
     "execution_count": 30,
     "metadata": {},
     "output_type": "execute_result"
    }
   ],
   "source": [
    "#Examine the data; note the last column contains Shapely point geometries\n",
    "gdf_EVStations.head()"
   ]
  },
  {
   "cell_type": "markdown",
   "metadata": {},
   "source": [
    "* Visualize the data... (more info [here](https://geopandas.org/mapping.html))"
   ]
  },
  {
   "cell_type": "code",
   "execution_count": 36,
   "metadata": {},
   "outputs": [
    {
     "data": {
      "image/png": "[encoded data removed]",
      "text/plain": [
       "<Figure size 432x288 with 1 Axes>"
      ]
     },
     "metadata": {
      "needs_background": "light"
     },
     "output_type": "display_data"
    }
   ],
   "source": [
    "#Create a simple plot\n",
    "gdf_EVStations.plot();"
   ]
  },
  {
   "cell_type": "code",
   "execution_count": 37,
   "metadata": {},
   "outputs": [],
   "source": [
    "world = geopandas.read_file(geopandas.datasets.get_path('naturalearth_lowres'))"
   ]
  },
  {
   "cell_type": "code",
   "execution_count": null,
   "metadata": {},
   "outputs": [],
   "source": [
    "#Preview of some plot visualization options...\n",
    "gdf_EVStations.plot(marker='.',        #Default marker to use for points. (Try)\n",
    "                    color='red',\n",
    "                    alpha=0.2,\n",
    "                    markersize=100,\n",
    "                    figsize=(18,5));"
   ]
  },
  {
   "cell_type": "markdown",
   "metadata": {},
   "source": [
    "## Geopandas -- all in one place\n",
    "So, let's look at all those steps in one short script - good for reference."
   ]
  },
  {
   "cell_type": "code",
   "execution_count": null,
   "metadata": {},
   "outputs": [],
   "source": [
    "#Import packages\n",
    "import pandas as pd\n",
    "import geopandas\n",
    "from shapely.geometry import Point\n",
    "\n",
    "#Read the CSV file into a Pandas dataframe\n",
    "df = pd.read_csv('./data/NC_Charging_Stations.csv')\n",
    "\n",
    "#Create a list of point geometries from the appropriate columns\n",
    "geomList = [Point(xy) for xy in zip(df['Longitude'],df['Latitude'])]\n",
    "\n",
    "#Specify coordinate reference system of our data in the form of a dictionary\n",
    "crs_NAD83 = {'init':'epsg:4326'}\n",
    "\n",
    "#Upgrade the dataframe to spatial dataframe, assigining it to the NAD83 crs\n",
    "gdf = geopandas.GeoDataFrame(df,geometry=geomList,crs=crs_NAD83)"
   ]
  },
  {
   "cell_type": "markdown",
   "metadata": {},
   "source": [
    "---\n",
    "---\n",
    "## ArcGIS Python API\n",
    "* https://developers.arcgis.com/python/guide/introduction-to-the-spatially-enabled-dataframe/#Accessing-GIS-data\n",
    "* https://esri.github.io/arcgis-python-api/apidoc/html/arcgis.features.toc.html#arcgis.features.GeoAccessor.from_xy"
   ]
  },
  {
   "cell_type": "markdown",
   "metadata": {},
   "source": [
    "### 1. Create the Pandas dataframe from the CSV data\n",
    "As above, saved as `df_EVStations`\n",
    "### 2. Create a \"Spatially Enabled Dataframe\" from the Pandas dataframe\n",
    "The ArcGIS Python API offers a simpler method for converting CSV coordinate data to a spatial dataframe, one that combines the two steps above. This involves the `from_xy()` method of the API's `GeoAccessor` object ([link](https://esri.github.io/arcgis-python-api/apidoc/html/arcgis.features.toc.html#arcgis.features.GeoAccessor.from_xy))."
   ]
  },
  {
   "cell_type": "code",
   "execution_count": null,
   "metadata": {},
   "outputs": [],
   "source": [
    "#Import the GeoAccessor module from the arcgis API\n",
    "from arcgis import GeoAccessor"
   ]
  },
  {
   "cell_type": "code",
   "execution_count": null,
   "metadata": {},
   "outputs": [],
   "source": [
    "#Re-read the EV Charging station data into a Pandas dataframe\n",
    "df_EVStations = pd.read_csv('./data/NC_Charging_Stations.csv')"
   ]
  },
  {
   "cell_type": "code",
   "execution_count": null,
   "metadata": {},
   "outputs": [],
   "source": [
    "#Convert to spatially enabled dataframe using the \"from_xy() method\"\n",
    "sdf_EVStations = GeoAccessor.from_xy(df_EVStations,'Longitude','Latitude',sr={'wkid':4326})\n",
    "type(sdf_EVStations)"
   ]
  },
  {
   "cell_type": "markdown",
   "metadata": {},
   "source": [
    "What's interesting is that the above operation returns what still looks like a *Pandas* dataframe. However, this dataframe is now associated with the ArcGIS *GeoAccessor* object, which is accessed by appending `.spatial` to the dataframe (which is not a part of standard Pandas dataframes):"
   ]
  },
  {
   "cell_type": "code",
   "execution_count": null,
   "metadata": {},
   "outputs": [],
   "source": [
    "#Reveal the new geoaccessor object linked to the dataframe\n",
    "type(sdf_EVStations.spatial)"
   ]
  },
  {
   "cell_type": "markdown",
   "metadata": {},
   "source": [
    "Thus, by appending `.spatial` to our *spatially enabled* dataframe, we attach a number of new actions we can do with this object. This [link](https://esri.github.io/arcgis-python-api/apidoc/html/arcgis.features.toc.html#geoaccessor) lists these actions, and below we show a few. "
   ]
  },
  {
   "cell_type": "code",
   "execution_count": null,
   "metadata": {},
   "outputs": [],
   "source": [
    "#Show the full extent of the sdf\n",
    "sdf_EVStations.spatial.full_extent"
   ]
  },
  {
   "cell_type": "code",
   "execution_count": null,
   "metadata": {},
   "outputs": [],
   "source": [
    "#Show the full extent as a bounding box\n",
    "sdf_EVStations.spatial.bbox"
   ]
  },
  {
   "cell_type": "code",
   "execution_count": null,
   "metadata": {},
   "outputs": [],
   "source": [
    "#Show its spatial reference\n",
    "sdf_EVStations.spatial.sr"
   ]
  },
  {
   "cell_type": "code",
   "execution_count": null,
   "metadata": {},
   "outputs": [],
   "source": [
    "#Reproject to UTM Zone 17N (wkid = 26917)\n",
    "sdf_EVStations_utm = sdf_EVStations.copy(deep=True) #We first need to copy to a new SDF\n",
    "sdf_EVStations_utm.spatial.project({'wkid': 26917})\n",
    "sdf_EVStations_utm.spatial.sr"
   ]
  },
  {
   "cell_type": "code",
   "execution_count": null,
   "metadata": {},
   "outputs": [],
   "source": [
    "#Plot the points\n",
    "sdf_EVStations.spatial.plot()"
   ]
  },
  {
   "cell_type": "markdown",
   "metadata": {},
   "source": [
    "https://developers.arcgis.com/python/guide/visualizing-data-with-the-spatially-enabled-dataframe/"
   ]
  },
  {
   "cell_type": "code",
   "execution_count": null,
   "metadata": {},
   "outputs": [],
   "source": [
    "#Plot the points, with some embellishment\n",
    "sdf_EVStations.spatial.plot(\n",
    "    renderer_type='u', #Set to show each unqiue value\n",
    "    col='ZIP',         #Set the field with unique values,\n",
    "    marker_size=5,\n",
    "    line_width=.5,\n",
    ")"
   ]
  },
  {
   "cell_type": "markdown",
   "metadata": {},
   "source": [
    "## ArcGIS Spatial DataFrame ↔ GeoPandas Geodataframe\n",
    "We can switch back and forth between the two formats as follows:"
   ]
  },
  {
   "cell_type": "code",
   "execution_count": null,
   "metadata": {},
   "outputs": [],
   "source": [
    "#To work with geometries we need to import the GeoSeriesAccessor class\n",
    "from arcgis import GeoSeriesAccessor"
   ]
  },
  {
   "cell_type": "code",
   "execution_count": null,
   "metadata": {},
   "outputs": [],
   "source": [
    "#Now we create that from the spatially enabled dataframe\n",
    "gs_EVStations = GeoSeriesAccessor(sdf_EVStations['SHAPE'])\n",
    "type(gs_EVStations)"
   ]
  },
  {
   "cell_type": "code",
   "execution_count": null,
   "metadata": {},
   "outputs": [],
   "source": [
    "#Convert the GeoSeriesAccessor to a set of Shapely geometries\n",
    "geom_EVStations = gs_EVStations.as_shapely\n",
    "geom_EVStations[:5]"
   ]
  },
  {
   "cell_type": "code",
   "execution_count": null,
   "metadata": {},
   "outputs": [],
   "source": [
    "gdf_EVStations = geopandas.GeoDataFrame(\n",
    "    sdf_EVStations,      \n",
    "    geometry=geom_EVStations, \n",
    "    crs=theCRS)  \n",
    "type(gdf_EVStations)"
   ]
  },
  {
   "cell_type": "code",
   "execution_count": null,
   "metadata": {},
   "outputs": [],
   "source": [
    "#Plot the geodataframe\n",
    "gdf_EVStations.plot();"
   ]
  },
  {
   "cell_type": "code",
   "execution_count": null,
   "metadata": {},
   "outputs": [],
   "source": [
    "#From GeoPandas to ArcGIS\n",
    "theSDF = GeoAccessor(gdf_EVStations)\n",
    "type(theSDF)"
   ]
  },
  {
   "cell_type": "code",
   "execution_count": null,
   "metadata": {},
   "outputs": [],
   "source": [
    "#Plot\n",
    "theSDF.plot()"
   ]
  },
  {
   "cell_type": "markdown",
   "metadata": {},
   "source": [
    "## Recap \n",
    "Both GeoPandas and the ArcGIS Python API give us the ability to import CSV data containing coordinates into Spatial DataFrames. We've seen the simplest example in action, i.e., bringing in point features. Polyline and polygon features are a bit more tricky but can be done fairly easily using GeoPandas if the CSV includes a column listing the point coordinates that make up the vertices of the polyline or polygon.\n",
    "\n",
    "A cool example: https://medium.com/geoai/house-hunting-the-data-scientist-way-b32d93f5a42f"
   ]
  }
 ],
 "metadata": {
  "kernelspec": {
   "display_name": "Python 3",
   "language": "python",
   "name": "python3"
  },
  "language_info": {
   "codemirror_mode": {
    "name": "ipython",
    "version": 3
   },
   "file_extension": ".py",
   "mimetype": "text/x-python",
   "name": "python",
   "nbconvert_exporter": "python",
   "pygments_lexer": "ipython3",
   "version": "3.6.12"
  }
 },
 "nbformat": 4,
 "nbformat_minor": 2
}
